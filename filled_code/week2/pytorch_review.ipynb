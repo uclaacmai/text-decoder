{
 "cells": [
  {
   "cell_type": "markdown",
   "metadata": {},
   "source": [
    "# PyTorch\n",
    "a brief intro\n",
    "### How to install\n",
    "Create some sort of virtual environment (preferably Conda or Poetry). Then follow the instructions on PyTorch's [website](https://pytorch.org/) to install the package."
   ]
  },
  {
   "cell_type": "code",
   "execution_count": 5,
   "metadata": {},
   "outputs": [],
   "source": [
    "# some standard imports\n",
    "import torch\n",
    "import numpy"
   ]
  },
  {
   "cell_type": "code",
   "execution_count": 15,
   "metadata": {},
   "outputs": [
    {
     "name": "stdout",
     "output_type": "stream",
     "text": [
      "torch.Size([3])\n",
      "tensor([[1., 1., 1.],\n",
      "        [1., 1., 1.]], dtype=torch.float64)\n",
      "tensor([[-0.4194, -0.6726,  0.6190],\n",
      "        [ 0.0851, -1.7131, -0.1297],\n",
      "        [-0.8416,  1.8870,  1.9356]])\n",
      "tensor([[1., 1.]])\n",
      "tensor([[1., 1.]], dtype=torch.float16)\n",
      "tensor([[1, 1]], dtype=torch.int32)\n"
     ]
    }
   ],
   "source": [
    "# PyTorch Tensors\n",
    "# A tensor is an array with an arbitrary number of dimensions (a matrix is a 2-tensor)\n",
    "my_tensor = torch.tensor([1,2,3])       # we can create a tensor from a python array\n",
    "print(my_tensor.shape)                  # we can see it's shape by calling .shape (which is very useful for debugging)\n",
    "print(torch.tensor(numpy.ones((2,3))))  # tensors can be created from numpy arrays as well\n",
    "torch.ones((2,3))                       # in fact torch can do most things numpy can\n",
    "print(torch.randn(3, 3))                # it can also create normally distributed tensors\n",
    "print(torch.ones((1,2), dtype=torch.float32))  # all tensor creation functions have this dtype optional parameter\n",
    "print(torch.ones((1,2), dtype=torch.float16))  # which tells torch what C++ primitive to represent it as \n",
    "print(torch.ones((1,2), dtype=torch.int32))    # (float 32 being a 32 bit IEEE 754 float, the most common for ML)"
   ]
  },
  {
   "cell_type": "code",
   "execution_count": 37,
   "metadata": {},
   "outputs": [
    {
     "name": "stdout",
     "output_type": "stream",
     "text": [
      "tensor(4)\n",
      "4\n",
      "tensor([1, 2, 3])\n",
      "tensor([1, 4, 7])\n",
      "tensor([1, 4])\n",
      "tensor([4, 7])\n",
      "torch.Size([2, 3, 4, 5])\n"
     ]
    }
   ],
   "source": [
    "# PyTorch indexing\n",
    "a = torch.tensor([\n",
    "    [1,2,3],\n",
    "    [4,5,6],\n",
    "    [7,8,9]\n",
    "])\n",
    "# if we want the second row first column element we can write the following (indicies are 0 indexed)\n",
    "print(a[1][0])              # remeber arrays are indexed row, then column (notice this is still a tensor)\n",
    "print(a[1][0].item())       # if we want a Python integer we need to call item on a scalar (0-tensor)\n",
    "# we can also use array slicing\n",
    "print(a[:][0])              # we can also take all rows and take the first of those rows\n",
    "print(a[:, 0])              # this means take the first element of all rows note: it's diffrent from a[:][0]!!!\n",
    "print(a[:2, 0])             # take the first element of all the rows until the third row (not inclusive)\n",
    "print(a[1:, 0])             # take the first element of all rows after the second row (inclusive)\n",
    "# we can also specify that we want all elements from an arbitrary number of dimensions with ...\n",
    "b = torch.ones(1,2,3,4,5,6)\n",
    "print(b[0, ..., 1].shape)   # we take the first element of the first dimension, all elements of dimensions 2-5\n",
    "                            # and then the second element of the last dimension which causes the tensor to flatten out"
   ]
  },
  {
   "cell_type": "code",
   "execution_count": 41,
   "metadata": {},
   "outputs": [
    {
     "name": "stdout",
     "output_type": "stream",
     "text": [
      "tensor([[3, 3],\n",
      "        [4, 4]])\n",
      "tensor([[4, 4],\n",
      "        [6, 6]])\n",
      "tensor([[3, 3],\n",
      "        [8, 8]])\n",
      "tensor([[ 7,  7],\n",
      "        [14, 14]])\n",
      "torch.Size([2, 3, 4, 5, 6])\n"
     ]
    }
   ],
   "source": [
    "# PyTorch Arithmatic\n",
    "a = torch.tensor([[1,1],[2,2]])\n",
    "b = torch.tensor([[3,3], [4,4]])\n",
    "# if we wanted to add 2 to every element in a we could do a for loop\n",
    "a_plus_two = torch.empty_like(a)\n",
    "for i in range(a.shape[0]):\n",
    "    for j in range(a.shape[1]):\n",
    "        a_plus_two[i][j] = a[i][j] + 2\n",
    "# however this is very slow and doesn't allow us to change a's shape (for example if we want to add another dimension)\n",
    "# so instead we can let PyTorch handle this using something called \"broadcasting\"\n",
    "# which is where we let PyTorch's C++ engine do the math for us which is *much* faster than we can achieve in python\n",
    "# here is the correct way to add 2 to every element:\n",
    "print(a + 2)                   # pytorch supports element wise operations with standard opperands\n",
    "print(b + a)                   # pytorch also supports *element-wise* operations between tensors for most opperands\n",
    "print(a * b)                   # this is *element-wise* multiplication\n",
    "print(a @ b)                   # to do *matrix* multiplication we need this @ sign\n",
    "\n",
    "# PyTorch also allows us to operate on tensors of diffrent sizes given their last n dimensions are the same shape \n",
    "# it does this by \"casting\" the smaller tensor to a higher dimension by repeatedly copying it and then doing the operation\n",
    "a = torch.ones((2,3,4,5,6))\n",
    "b = torch.ones((4,5,6)) * 2\n",
    "print((a*b).shape)"
   ]
  },
  {
   "cell_type": "code",
   "execution_count": 63,
   "metadata": {},
   "outputs": [
    {
     "name": "stdout",
     "output_type": "stream",
     "text": [
      "tensor([0.6667, 0.6667, 0.6667])\n",
      "tensor([0.3333, 1.3333, 2.3333], requires_grad=True)\n",
      "tensor([0.6667, 0.6667, 0.6667])\n",
      "None\n"
     ]
    }
   ],
   "source": [
    "# auto-grad\n",
    "# here we tell x to track it's gradients (note that torch can only track floating point tensor gradients)\n",
    "# when this is set torch will automatically track the computational graph for x \n",
    "x = torch.tensor([1.,2.,3.], requires_grad=True)\n",
    "y = (x * 2).mean()  # torch can only calculate gradients from a scalar (0-tensor) output\n",
    "y.backward()        # this tells torch to calculate the upstream gradients from y, note that backward has no \"s\"\n",
    "print(x.grad)\n",
    "\n",
    "# updating parameters\n",
    "# here we tell our optimizer (stochasitic gradient decent) to modify x with a gradient multiplier of 1\n",
    "optimizer = torch.optim.SGD([x], lr=1)  # all optimizers are classes so here it is initialized\n",
    "optimizer.step()                        # this tells the optimizer to update it's tracked parameters (ie x -= x.grad*lr)\n",
    "print(x)                                # note that x is now x -= x.grad*lr\n",
    "\n",
    "# zero-ing gradient\n",
    "print(x.grad)           # note that x is still storing it's gradient, so if we want to calculate a new gradient\n",
    "optimizer.zero_grad()   # we have to zero it's gradient through the optimizer   \n",
    "print(x.grad)"
   ]
  },
  {
   "cell_type": "code",
   "execution_count": 93,
   "metadata": {},
   "outputs": [
    {
     "name": "stdout",
     "output_type": "stream",
     "text": [
      "MyNetwork(\n",
      "  (layers): ModuleList(\n",
      "    (0): Linear(in_features=10, out_features=32, bias=True)\n",
      "    (1): ReLU()\n",
      "    (2): Linear(in_features=32, out_features=64, bias=True)\n",
      "    (3): ReLU()\n",
      "    (4): Linear(in_features=64, out_features=8, bias=True)\n",
      "    (5): ReLU()\n",
      "    (6): Linear(in_features=8, out_features=2, bias=True)\n",
      "    (7): Sigmoid()\n",
      "  )\n",
      ")\n",
      "torch.Size([32, 10])\n",
      "torch.Size([32, 2])\n"
     ]
    }
   ],
   "source": [
    "# lets look at a standard dense network implmentation\n",
    "# try removing some pieces of this network to see how the output changes\n",
    "from torch import nn\n",
    "\n",
    "class MyNetwork(nn.Module):   # all NN's must inherit from nn.Module since it defines some important behvior \n",
    "    def __init__(self,layer_sizes: tuple[int, ...]) -> None:\n",
    "        super(MyNetwork, self).__init__()   # first we initialize nn.Module\n",
    "        self.layers = []\n",
    "        for in_size, out in zip(layer_sizes[:-1], layer_sizes[1:]): # this makes in and out offset by 1\n",
    "            self.layers.append(nn.Linear(in_size, out))     # nn.Linear is a dense layer\n",
    "            self.layers.append(nn.ReLU())                   # here we have our activation function\n",
    "        self.layers[-1] = nn.Sigmoid()                      # we replace the last ReLU with sigmoid for classification\n",
    "        self.layers = nn.ModuleList(self.layers)            # then we register these layers with nn.Module using this (try removing this)\n",
    "\n",
    "    def forward(self, x) -> torch.Tensor:  \n",
    "        \"\"\"\n",
    "        This function is called whenever some input is passed into the model\n",
    "        \"\"\"\n",
    "        for layer in self.layers:   # we pass x through each layer\n",
    "            x = layer(x)\n",
    "        return x\n",
    "    \n",
    "# here you can see an example network by printing out all of the registered layers\n",
    "a = MyNetwork([10,32,64,8,2])\n",
    "print(a)\n",
    "# as a sanity check lets try passing in a vector \n",
    "x = torch.ones((32, 10))    # note this is of shape [batch, input], pytorch handels batches implicitly\n",
    "print(x.shape)\n",
    "print(a(x).shape)      # since our layer sizes goes from 10 to 2 we should expect the output to be [32,2]"
   ]
  },
  {
   "cell_type": "code",
   "execution_count": 113,
   "metadata": {},
   "outputs": [
    {
     "name": "stdout",
     "output_type": "stream",
     "text": [
      "first layer grad:\n",
      " tensor([[-0.0059, -0.0059],\n",
      "        [-0.0359, -0.0359],\n",
      "        [ 0.0417,  0.0417]])\n",
      "\n",
      "first layer weight:\n",
      " Parameter containing:\n",
      "tensor([[-0.5906,  0.3870],\n",
      "        [-0.1813, -0.5382],\n",
      "        [ 0.0853,  0.1262]], requires_grad=True)\n",
      "\n",
      "first layer weight post update:\n",
      " Parameter containing:\n",
      "tensor([[-0.5806,  0.3970],\n",
      "        [-0.1713, -0.5282],\n",
      "        [ 0.0753,  0.1162]], requires_grad=True)\n",
      "\n"
     ]
    }
   ],
   "source": [
    "# optimizing a network\n",
    "a = MyNetwork([2,3]) # lets create a simple network\n",
    "optimizer = torch.optim.Adam(a.parameters(), lr=1e-2) # to access our model's trainable parameters we use .parameters()\n",
    "criterion = torch.nn.CrossEntropyLoss()               # our loss function is also a class\n",
    "x = torch.ones((2, 2))\n",
    "y = a(x)                    # here we passed x through our network\n",
    "label = torch.ones_like(y)  # lets say our target is to get our model to output 1's\n",
    "loss = criterion(y, label)  # cross entropy takes predictions, then target -> int\n",
    "loss.backward()             # remeber this is how we backprop\n",
    "print(\"first layer grad:\\n\", a.layers[0].weight.grad, end=\"\\n\\n\") # this lets us see the gradients on the weight of the first layer\n",
    "print(\"first layer weight:\\n\", a.layers[0].weight, end=\"\\n\\n\")\n",
    "optimizer.step()\n",
    "print(\"first layer weight post update:\\n\", a.layers[0].weight, end=\"\\n\\n\")\n",
    "optimizer.zero_grad()"
   ]
  },
  {
   "cell_type": "code",
   "execution_count": 121,
   "metadata": {},
   "outputs": [
    {
     "name": "stdout",
     "output_type": "stream",
     "text": [
      "tensor([[1., 1., 1.],\n",
      "        [1., 1., 1.]])\n",
      "tensor([[1., 1., 1.],\n",
      "        [1., 1., 1.]], device='cuda:0')\n",
      "cpu\n",
      "cuda:0\n"
     ]
    }
   ],
   "source": [
    "# using hardware accelerators\n",
    "# cuda is for nvidia graphics, mps for m-series mac chips, and cpu runs on your cpu\n",
    "device = \"cuda\" if torch.cuda.is_available() else \"mps\" if torch.backends.mps.is_available() else \"cpu\"\n",
    "x = torch.ones((2,3))\n",
    "# we can use .to to make a *copy* of the vector on the device\n",
    "x_on_device = x.to(device) \n",
    "print(x)            # this should look the same as it originally did\n",
    "print(x_on_device)  # but if you have a device this one will say device='cuda:0' (or mps)\n",
    "\n",
    "a = MyNetwork([2,3])\n",
    "print(next(a.parameters()).device)\n",
    "a.to(device)       # models, however, are moved to the new device rather than copied\n",
    "print(next(a.parameters()).device)"
   ]
  },
  {
   "cell_type": "markdown",
   "metadata": {},
   "source": [
    "### So What Can PyTorch Do?\n",
    "PyTorch is incredibly powerful and, better yet, it has amazing documentation. To get a better idea of what it can do I reccomend looking at the documentation for some of the most vital parts. In particular [torch.optim](https://pytorch.org/docs/stable/optim.html), [torch.nn](https://pytorch.org/docs/stable/nn.html), and [torch.nn loss functions](https://pytorch.org/docs/stable/nn.html) are a good place to start."
   ]
  },
  {
   "cell_type": "markdown",
   "metadata": {},
   "source": []
  }
 ],
 "metadata": {
  "kernelspec": {
   "display_name": "pytorch",
   "language": "python",
   "name": "python3"
  },
  "language_info": {
   "codemirror_mode": {
    "name": "ipython",
    "version": 3
   },
   "file_extension": ".py",
   "mimetype": "text/x-python",
   "name": "python",
   "nbconvert_exporter": "python",
   "pygments_lexer": "ipython3",
   "version": "3.10.13"
  }
 },
 "nbformat": 4,
 "nbformat_minor": 2
}
