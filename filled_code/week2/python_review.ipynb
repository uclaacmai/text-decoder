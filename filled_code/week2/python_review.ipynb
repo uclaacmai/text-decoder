{
 "cells": [
  {
   "cell_type": "markdown",
   "metadata": {},
   "source": [
    "# Python\n",
    "A brief intro\n",
    "### History\n",
    "A new language was born in 1989 when developer, and later self-acclaimed \"Benevolent Dictator For Life [of the languague]\", Guido Van Rossum decided to make a version of ABC (a programming language best known for inspiring Python) that doesn't just look like a reskined SQL query. He would later go on to name this programming language Python after the BBC’s TV Show – 'Monty Python’s Flying Circus', one of his favorite shows at the time.\n",
    "### Why Python\n",
    "According to Tiobe (as of July 8, 2024) Python is the number one programming language, for a good reason too. Because of it's simple, english reminicent, syntax Python has become popular for a number of applications:\n",
    "- Competitive programming (it's fast to type)\n",
    "- Web apps (Flask, Django, ect.)\n",
    "- Data Science (NumPy, Pandas, ect.)\n",
    "- Deep Learning (PyTorch, JAX, TensorFlow)\n",
    "### Jargon\n",
    "Python is a garbage collected, dynamically typed, multi-paradigm programming langauge. Which is to say\n",
    "- You don't have to worry about tracking memory\n",
    "- Variable typing is determined for you\n",
    "- It supports many coding styles such as object-oriented, imperitive, and functional (to name a few)\n",
    "### Internals\n",
    "- Instead of scopes python has \"namespaces\" which map variables (names) to literal values\n",
    "- All variables are passed by refrence\n",
    "- *Everything* in python is an object\n",
    "### Compiled or Not?\n",
    "Most people consider Python interpreted due to the fact that it is built to run on an interpreter. However you may notice that sometimes python will generate a \\_\\_pycache\\_\\_ folder which contains .pyc files. These are the result of Python compiling a .py file to byte code for it's interpreter. Sometimes when a specific line is called enough python will call it's just in time (JIT) compiler which compiles those lines to byte code that runs on your processor. So \"compiled vs interpreted\" is clearly a bit loose when it comes to Python (and many other modern languages)."
   ]
  },
  {
   "cell_type": "code",
   "execution_count": 1,
   "metadata": {},
   "outputs": [
    {
     "name": "stdout",
     "output_type": "stream",
     "text": [
      "<class 'str'>\n",
      "<class 'int'>\n",
      "<class 'float'>\n",
      "<class 'bool'>\n",
      "<class 'NoneType'>\n",
      "5\n",
      "5\n"
     ]
    }
   ],
   "source": [
    "# Python primitives (technically they're classes)\n",
    "print(type(\"asdf\"))     # we can create string literals\n",
    "print(type(123))        # integer literals\n",
    "print(type(0.1))        # float literals\n",
    "print(type(True))       # boolean literals\n",
    "print(type(None))       # None is the equivlent of a null ptr\n",
    "x = 5                   # we can assign names to values\n",
    "print(x)\n",
    "y = x                   # we can also create shallow copies of variables\n",
    "x = 10\n",
    "print(y)"
   ]
  },
  {
   "cell_type": "code",
   "execution_count": 2,
   "metadata": {},
   "outputs": [
    {
     "name": "stdout",
     "output_type": "stream",
     "text": [
      "[2, 'list element 1', 'hi']\n",
      "{1, 2, 'a'}\n",
      "{'key 0': 1, 1: 'value 1'}\n",
      "range(0, 2)\n",
      "[(1, 'key 0'), (2, 1)]\n"
     ]
    }
   ],
   "source": [
    "# Collections\n",
    "my_tuple = (\"tuple element 0\", 1)   # tuples are immutable and ordered\n",
    "my_list = [2, \"list element 1\"]     # lists are mutable and ordered\n",
    "my_list.append(\"hi\")\n",
    "print(my_list)\n",
    "my_set = {\"a\", 1, \"a\", 2}   # sets only have unique items, are mutable, and unordered\n",
    "print(my_set)\n",
    "my_dict = {\n",
    "    \"key 0\": 1,\n",
    "    1: \"value 1\",\n",
    "}                           # dictionaries are unordered,mutable, and map hashable objects to objects\n",
    "print(my_dict)\n",
    "my_range = range(\n",
    "    2\n",
    ")                           # there are a lot of collections in python, such as this range object\n",
    "print(my_range)\n",
    "my_zip = zip(\n",
    "    my_set, my_dict\n",
    ")                           # we can also combine iterables with zip to create an iterable \"list\" of tuples\n",
    "print([i for i in my_zip])"
   ]
  },
  {
   "cell_type": "code",
   "execution_count": 3,
   "metadata": {},
   "outputs": [
    {
     "name": "stdout",
     "output_type": "stream",
     "text": [
      "tuple element 0\n",
      "list element 1\n",
      "True\n",
      "1\n",
      "dict_items([('key 0', 1), (1, 'value 1')])\n",
      "True\n",
      "False\n"
     ]
    }
   ],
   "source": [
    "# Accessing collection data\n",
    "print(my_tuple[0])          # we can index tuples\n",
    "print(my_list[1])           # and lists\n",
    "print(\n",
    "    1 in my_set\n",
    ")                           # we can check if a value is in a set, this is O(1) since set objects are hashed\n",
    "print(my_dict[\"key 0\"])     # we can access the values in dict by using their keys\n",
    "print(my_dict.items())      # we can also see all of its key value pairs as tuples\n",
    "print(\"key 0\" in my_dict)   # similar to a set we can check if a key is in a dict\n",
    "print(2 in my_dict)"
   ]
  },
  {
   "cell_type": "code",
   "execution_count": 4,
   "metadata": {},
   "outputs": [
    {
     "name": "stdout",
     "output_type": "stream",
     "text": [
      "[1, 2, 1]\n"
     ]
    }
   ],
   "source": [
    "# side note on collections:\n",
    "a = [1, 2]\n",
    "b = a           # because assignment is a shallow copy b is actually refrencing a here\n",
    "b.append(1)     # so when we modify b\n",
    "print(a)        # a is modified too"
   ]
  },
  {
   "cell_type": "code",
   "execution_count": 5,
   "metadata": {},
   "outputs": [
    {
     "name": "stdout",
     "output_type": "stream",
     "text": [
      "arg1  required\n",
      "True\n",
      "('*args1', '*args2')\n",
      "{'kwargs1': 'kwargs1', 'kwargs2': 'kwargs2'}\n",
      "\n",
      "arg1  required\n",
      "optional\n",
      "()\n",
      "{}\n",
      "\n"
     ]
    }
   ],
   "source": [
    "# functions\n",
    "# arg1 is a standard argument and will consume the first parameter passed in or anything denoted with arg1=\n",
    "# *args makes a tuple of all unassigned values that aren't taken by standard arguments\n",
    "# arg2 is an optional parameter and if nothing is assigned to it will take the value True\n",
    "# **kwargs creates a dictionary where opt1=opt2 is a key value pair from opt1:opt2\n",
    "def func1(arg1, *args, arg2=True, **kwargs):\n",
    "    print(\"arg1\", arg1)\n",
    "    print(arg2)\n",
    "    print(args)\n",
    "    print(kwargs, end=\"\\n\\n\")  # notice that print has the optional end arg\n",
    "\n",
    "\n",
    "func1(\" required\", \"*args1\", \"*args2\", kwargs1=\"kwargs1\", kwargs2=\"kwargs2\")\n",
    "func1(arg1=\" required\", arg2=\"optional\")"
   ]
  },
  {
   "cell_type": "code",
   "execution_count": 6,
   "metadata": {},
   "outputs": [
    {
     "name": "stdout",
     "output_type": "stream",
     "text": [
      "HELLO WORLD\n",
      "hello world\n",
      "H e l l o   W o r l d\n"
     ]
    }
   ],
   "source": [
    "# decorators\n",
    "def shout(text):\n",
    "    return text.upper()\n",
    "\n",
    "\n",
    "def whisper(text):\n",
    "    return text.lower()\n",
    "\n",
    "\n",
    "def hi(func):  # this function takes a function as an argument\n",
    "    hi = func(\"Hello World\")\n",
    "    print(hi)\n",
    "\n",
    "\n",
    "hi(shout)  # here we pass a function by reference\n",
    "hi(whisper)\n",
    "\n",
    "\n",
    "# we can also use our decorators on functions by putting the @ symbol before it\n",
    "@hi\n",
    "def join(text):\n",
    "    return \" \".join(text)"
   ]
  },
  {
   "cell_type": "code",
   "execution_count": 7,
   "metadata": {},
   "outputs": [
    {
     "name": "stdout",
     "output_type": "stream",
     "text": [
      "hi\n",
      "hello world\n",
      "hello\n"
     ]
    }
   ],
   "source": [
    "# anonymous functions, aka lambdas\n",
    "# a lambda takes in a variable and then returns the right most statment\n",
    "lam = lambda x: x.lower()\n",
    "print(lam(\"Hi\"))\n",
    "hi(lam)\n",
    "\n",
    "\n",
    "# lambda's can be decorators\n",
    "@lambda x: [x]\n",
    "def hello():\n",
    "    print(\"hello\")\n",
    "\n",
    "\n",
    "hello[0]()"
   ]
  },
  {
   "cell_type": "code",
   "execution_count": 8,
   "metadata": {},
   "outputs": [
    {
     "name": "stdout",
     "output_type": "stream",
     "text": [
      "range 0\n",
      "range 1\n",
      "list first\n",
      "list second\n",
      "[range(0, 0), range(0, 1)]\n",
      "{0: 2, 1: 1}\n",
      "is true\n",
      "first option\n",
      "while 3\n",
      "ending while\n"
     ]
    }
   ],
   "source": [
    "# Control flow\n",
    "for i in range(2):                  # we can use for loops to iterate over iterable classes\n",
    "    print(\"range\", i)\n",
    "for i in [\"first\", \"second\"]:       # we can do this with lists as well\n",
    "    print(\"list\", i)\n",
    "print(\n",
    "    [range(i) for i in range(2)]\n",
    ")                                   # we can also use this in \"list comprehension\" which is a bit faster than a loop\n",
    "print(\n",
    "    {i: n for i, n in zip(range(2), range(2, 0, -1))}\n",
    ")                                   # we can also do dict (or any primitive collection) comprehension\n",
    "if False:                           # we also have conditionals\n",
    "    print(\"is false\")\n",
    "elif 1:                             # rather than typing out else if python shortens it to elif...\n",
    "    print(\"is true\")\n",
    "else:\n",
    "    print(\"not possible\")\n",
    "\n",
    "print(\n",
    "    \"first option\" if True else \"second option\"\n",
    ")                                   # we can also use conditionals to create ternary operators\n",
    "\n",
    "i = 4\n",
    "while i > 0:                        # we can do while statments\n",
    "    i -= 1                          # we can shorten i = i -1 to this (we can do this with most operators)\n",
    "    if i == 4:\n",
    "        continue  # this means it \"jumps\" back to the start of the loop without executing anything else\n",
    "    if i == 2:\n",
    "        print(\"ending while\")\n",
    "        break  # ends the loop\n",
    "    print(\"while\", i)"
   ]
  },
  {
   "cell_type": "code",
   "execution_count": 9,
   "metadata": {},
   "outputs": [],
   "source": [
    "# Control flow as of Python 3.10\n",
    "num = 2\n",
    "match num:          # match staments are much more powerful than case's here is just a few of the things it can do\n",
    "    case 1:         # checks if num == 1\n",
    "        pass        # means ignore this\n",
    "    case 2 | 3:     # checks if num == 2 or num == 3\n",
    "        pass\n",
    "    case num if num > 0:  # checks if num is positive\n",
    "        pass"
   ]
  },
  {
   "cell_type": "code",
   "execution_count": 10,
   "metadata": {},
   "outputs": [
    {
     "name": "stdout",
     "output_type": "stream",
     "text": [
      "init base\n",
      "init base\n",
      "a:  2, ['shared'], [1, 2]\n",
      "b:  2, ['shared'], [3, 4]\n"
     ]
    }
   ],
   "source": [
    "# Classes\n",
    "class Base:\n",
    "    var1 = 1  # These are static class variables which every object in the class is assigned a shallow copy of\n",
    "    var2 = []  # because the copy is shallow var2 is shared among all objects in the class\n",
    "    # note that while every object makes a copy (accessed by self.var1) there is also one assigned to the class\n",
    "    # which is accessed by Base.var1 which changes it for all classes\n",
    "    # for more on class variables look here: https://stackoverflow.com/questions/68645/class-static-variables-and-methods/69067#69067\n",
    "\n",
    "    def __init__(self, var_list):  # this is always called when an object is created\n",
    "        print(\"init base\")\n",
    "        self.var3 = var_list  # this list is exclusive to each obect in this class\n",
    "        # note that all variables are public in Python\n",
    "\n",
    "    # note that self is a pointer to the object and must be passed to all class functions\n",
    "    def func1(self, arg1):\n",
    "        print(arg1)\n",
    "\n",
    "    # methods in classes of the form __method__ are called dunder methods\n",
    "    # they are meant to never be called like normal functions\n",
    "    # but rather define the behavior of the class in certain situations\n",
    "    # there are a lot of them but for example you can use them to\n",
    "    # make the class iterable, change how it interacts with the equal operator, and how it hashes\n",
    "    def __str__(self):  # this is called when print is called on a class\n",
    "        return \", \".join(\n",
    "            [str(i) for i in [self.var1, self.var2, self.var3]]\n",
    "        )  # here I use a str method join combine a list of strings\n",
    "\n",
    "\n",
    "a = Base([1, 2])\n",
    "b = Base([3, 4])\n",
    "Base.var1 = 2  # note this changes var1 for all objects (both a and b)\n",
    "a.var2.append(\"shared\")\n",
    "a.var1 = 2\n",
    "print(\"a: \", a)\n",
    "print(\"b: \", b)"
   ]
  },
  {
   "cell_type": "code",
   "execution_count": 11,
   "metadata": {},
   "outputs": [
    {
     "name": "stdout",
     "output_type": "stream",
     "text": [
      "init base\n",
      "init base 2\n",
      "init derived\n",
      "hi\n",
      "2, ['shared'], [1, 2]\n",
      "func1\n"
     ]
    }
   ],
   "source": [
    "# inheritance\n",
    "class Base2:\n",
    "    def __init__(self, value):\n",
    "        print(\"init base 2\")\n",
    "        self.arg4 = value\n",
    "\n",
    "\n",
    "# python allows multiple inheritance\n",
    "class Derived(\n",
    "    Base2, Base\n",
    "):  # in this example derived inherits the methods and values of it's parents\n",
    "    def __init__(self, value, var_list):\n",
    "        Base.__init__(self, var_list)\n",
    "        Base2.__init__(self, value)\n",
    "        print(\"init derived\")\n",
    "\n",
    "\n",
    "a = Derived(\"hi\", [1, 2])\n",
    "print(a.arg4)\n",
    "print(a)\n",
    "a.func1(\"func1\")"
   ]
  },
  {
   "cell_type": "code",
   "execution_count": 12,
   "metadata": {},
   "outputs": [
    {
     "name": "stdout",
     "output_type": "stream",
     "text": [
      "try this if it fails...\n",
      "then we run this\n",
      "no matter what happens above, this runs\n"
     ]
    }
   ],
   "source": [
    "# exception handling\n",
    "# note, you should only use exceptions when you really need to, often exceptions idicate something wrong with your code\n",
    "try:\n",
    "    print(\"try this if it fails...\")\n",
    "    raise \"my error\"  # here we manually raise an error, which will be caught\n",
    "except:\n",
    "    print(\"then we run this\")\n",
    "finally:\n",
    "    print(\"no matter what happens above, this runs\")"
   ]
  },
  {
   "cell_type": "code",
   "execution_count": 13,
   "metadata": {},
   "outputs": [
    {
     "name": "stdout",
     "output_type": "stream",
     "text": [
      "1\n",
      "init base\n",
      "init base 2\n",
      "init derived\n"
     ]
    }
   ],
   "source": [
    "# Good coding practices / type hinting\n",
    "my_int: int = 10  # the colon denotes that we are giving a type hint (note this is unesscary for variable declartions)\n",
    "\n",
    "\n",
    "# this function takes an int, an object from the Derived class, and tuple of two ints and doesn't return\n",
    "def func(\n",
    "    arg1: int, arg2: Derived, arg3: tuple[int, int]\n",
    ") -> None:  # here the -> denotes the return type\n",
    "    \"\"\"\n",
    "    arg1: Doc strings (multi-line string literals) are often used to describe what parameters are for\n",
    "    and what the function does\n",
    "    \"\"\"\n",
    "    pass\n",
    "\n",
    "\n",
    "class TypedClass:\n",
    "    a: int  # sometimes people will add type hints for variables as static variables\n",
    "\n",
    "    def __init__(self, a) -> None:\n",
    "        self.a = a\n",
    "\n",
    "\n",
    "a = TypedClass(1)\n",
    "print(a.a)\n",
    "\n",
    "func(\n",
    "    8, Derived(\"hi\", [1, 2]), (1, 2)\n",
    ")  # based on type hints this is the correct way to use the function\n",
    "func(1, 2, 3)  # note that type hints are not enforced so this works\n",
    "\n",
    "# for more on type hinting look here: https://docs.python.org/3/library/typing.html"
   ]
  },
  {
   "cell_type": "code",
   "execution_count": 14,
   "metadata": {},
   "outputs": [
    {
     "name": "stdout",
     "output_type": "stream",
     "text": [
      "n/a\n",
      "n/a\n",
      "n/a\n"
     ]
    }
   ],
   "source": [
    "# using packages\n",
    "import os  # this is how we do a basic import\n",
    "\n",
    "__import__(\"os\")            # under the hood import calls this dunder method\n",
    "print(os.path.join(\"n\", \"a\"))\n",
    "from os import path         # sometimes we want to import a sub-module\n",
    "\n",
    "print(path.join(\"n\", \"a\"))\n",
    "from os import *            # we can also import all sub-modules with * (this is usually bad as it pollutes the name space)\n",
    "from os import path as pth  # here we alias os.path as pth\n",
    "\n",
    "print(pth.join(\"n\", \"a\"))"
   ]
  },
  {
   "cell_type": "code",
   "execution_count": 15,
   "metadata": {},
   "outputs": [
    {
     "name": "stdout",
     "output_type": "stream",
     "text": [
      "<built-in function __import__>\n",
      "<built-in function __import__>\n",
      "1\n",
      "(1,)\n",
      "4\n"
     ]
    }
   ],
   "source": [
    "# cursed python things\n",
    "# we can import without ever typing out import\n",
    "print(__import__)\n",
    "print(\n",
    "    list(\n",
    "        [\n",
    "            t\n",
    "            for t in ().__class__.__bases__[0].__subclasses__()\n",
    "            if \"warning\" in t.__name__\n",
    "        ][0]()._module.__builtins__.values()\n",
    "    )[6]\n",
    ")  # you can also put dots on new lines\n",
    "# to declare a one element tuple you need a comma\n",
    "print((1))\n",
    "print((1,))\n",
    "# we can use eval to run strings\n",
    "expression = \"2 + 2\"\n",
    "print(eval(expression))"
   ]
  },
  {
   "cell_type": "code",
   "execution_count": null,
   "metadata": {},
   "outputs": [],
   "source": []
  }
 ],
 "metadata": {
  "kernelspec": {
   "display_name": "pytorch",
   "language": "python",
   "name": "python3"
  },
  "language_info": {
   "codemirror_mode": {
    "name": "ipython",
    "version": 3
   },
   "file_extension": ".py",
   "mimetype": "text/x-python",
   "name": "python",
   "nbconvert_exporter": "python",
   "pygments_lexer": "ipython3",
   "version": "3.10.13"
  }
 },
 "nbformat": 4,
 "nbformat_minor": 2
}
