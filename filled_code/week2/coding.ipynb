{
 "cells": [
  {
   "cell_type": "code",
   "execution_count": 100,
   "metadata": {},
   "outputs": [],
   "source": [
    "from pathlib import Path\n",
    "import pandas as pd\n",
    "import re\n",
    "import random"
   ]
  },
  {
   "cell_type": "code",
   "execution_count": 45,
   "metadata": {},
   "outputs": [
    {
     "data": {
      "text/html": [
       "<div>\n",
       "<style scoped>\n",
       "    .dataframe tbody tr th:only-of-type {\n",
       "        vertical-align: middle;\n",
       "    }\n",
       "\n",
       "    .dataframe tbody tr th {\n",
       "        vertical-align: top;\n",
       "    }\n",
       "\n",
       "    .dataframe thead th {\n",
       "        text-align: right;\n",
       "    }\n",
       "</style>\n",
       "<table border=\"1\" class=\"dataframe\">\n",
       "  <thead>\n",
       "    <tr style=\"text-align: right;\">\n",
       "      <th></th>\n",
       "      <th>#</th>\n",
       "      <th>Dad Jokes</th>\n",
       "    </tr>\n",
       "  </thead>\n",
       "  <tbody>\n",
       "    <tr>\n",
       "      <th>0</th>\n",
       "      <td>0</td>\n",
       "      <td>A steak pun is a rare medium well done.</td>\n",
       "    </tr>\n",
       "    <tr>\n",
       "      <th>1</th>\n",
       "      <td>1</td>\n",
       "      <td>They say that breakfast is the most important ...</td>\n",
       "    </tr>\n",
       "    <tr>\n",
       "      <th>2</th>\n",
       "      <td>2</td>\n",
       "      <td>What do you get if you cross an angry sheep wi...</td>\n",
       "    </tr>\n",
       "    <tr>\n",
       "      <th>3</th>\n",
       "      <td>3</td>\n",
       "      <td>An apple a day keeps the doctor away. At least...</td>\n",
       "    </tr>\n",
       "    <tr>\n",
       "      <th>4</th>\n",
       "      <td>4</td>\n",
       "      <td>What sounds like a sneeze and is made of leath...</td>\n",
       "    </tr>\n",
       "  </tbody>\n",
       "</table>\n",
       "</div>"
      ],
      "text/plain": [
       "   #                                          Dad Jokes\n",
       "0  0            A steak pun is a rare medium well done.\n",
       "1  1  They say that breakfast is the most important ...\n",
       "2  2  What do you get if you cross an angry sheep wi...\n",
       "3  3  An apple a day keeps the doctor away. At least...\n",
       "4  4  What sounds like a sneeze and is made of leath..."
      ]
     },
     "execution_count": 45,
     "metadata": {},
     "output_type": "execute_result"
    }
   ],
   "source": [
    "# lets take a look at the data\n",
    "data_path = Path(\"../../dad_jokes.csv\")\n",
    "df = pd.read_csv(data_path)\n",
    "df.head(5)"
   ]
  },
  {
   "cell_type": "code",
   "execution_count": 46,
   "metadata": {},
   "outputs": [
    {
     "data": {
      "text/html": [
       "<div>\n",
       "<style scoped>\n",
       "    .dataframe tbody tr th:only-of-type {\n",
       "        vertical-align: middle;\n",
       "    }\n",
       "\n",
       "    .dataframe tbody tr th {\n",
       "        vertical-align: top;\n",
       "    }\n",
       "\n",
       "    .dataframe thead th {\n",
       "        text-align: right;\n",
       "    }\n",
       "</style>\n",
       "<table border=\"1\" class=\"dataframe\">\n",
       "  <thead>\n",
       "    <tr style=\"text-align: right;\">\n",
       "      <th></th>\n",
       "      <th>text</th>\n",
       "    </tr>\n",
       "  </thead>\n",
       "  <tbody>\n",
       "    <tr>\n",
       "      <th>0</th>\n",
       "      <td>A steak pun is a rare medium well done.</td>\n",
       "    </tr>\n",
       "    <tr>\n",
       "      <th>1</th>\n",
       "      <td>They say that breakfast is the most important ...</td>\n",
       "    </tr>\n",
       "    <tr>\n",
       "      <th>2</th>\n",
       "      <td>What do you get if you cross an angry sheep wi...</td>\n",
       "    </tr>\n",
       "    <tr>\n",
       "      <th>3</th>\n",
       "      <td>An apple a day keeps the doctor away. At least...</td>\n",
       "    </tr>\n",
       "    <tr>\n",
       "      <th>4</th>\n",
       "      <td>What sounds like a sneeze and is made of leath...</td>\n",
       "    </tr>\n",
       "  </tbody>\n",
       "</table>\n",
       "</div>"
      ],
      "text/plain": [
       "                                                text\n",
       "0            A steak pun is a rare medium well done.\n",
       "1  They say that breakfast is the most important ...\n",
       "2  What do you get if you cross an angry sheep wi...\n",
       "3  An apple a day keeps the doctor away. At least...\n",
       "4  What sounds like a sneeze and is made of leath..."
      ]
     },
     "execution_count": 46,
     "metadata": {},
     "output_type": "execute_result"
    }
   ],
   "source": [
    "# ok so our data is a little messy, lets refactor it a bit \n",
    "df = df.drop('#', axis=1)\n",
    "df = df.rename(columns={\"Dad Jokes\": \"text\"})\n",
    "df.head(5)"
   ]
  },
  {
   "cell_type": "code",
   "execution_count": 91,
   "metadata": {},
   "outputs": [],
   "source": [
    "def get_next_token_frequency(df: pd.DataFrame, end_token = '<eos>') -> dict[str, dict[str: int]]:\n",
    "    vocabulary = {}\n",
    "    for index, row in df.iterrows():\n",
    "        split_text = re.findall(r'\\w+|[.,!?;\":]', row['text'])\n",
    "        for index in range(len(split_text)):\n",
    "            word = split_text[index].strip().lower()\n",
    "\n",
    "            if index == len(split_text) - 1:\n",
    "                next_word = end_token\n",
    "            else:\n",
    "                next_word = split_text[index + 1].strip().lower()\n",
    "\n",
    "            if word == \"\":\n",
    "                break\n",
    "\n",
    "            if word in vocabulary:\n",
    "                if next_word in vocabulary[word]:\n",
    "                    vocabulary[word][next_word] += 1\n",
    "                else:\n",
    "                    vocabulary[word][next_word] = 1\n",
    "\n",
    "            else:\n",
    "                vocabulary[word] = {next_word: 1}\n",
    "\n",
    "    return vocabulary"
   ]
  },
  {
   "cell_type": "code",
   "execution_count": 92,
   "metadata": {},
   "outputs": [],
   "source": [
    "def convert_frequency_to_probability(vocabulary: dict[str, dict[str: int]]) -> dict[tuple[float,str]]:\n",
    "    probability_dictonary = {}\n",
    "    for key, frequency_dict in vocabulary.items():\n",
    "        total_frequency = sum(frequency_dict.values())\n",
    "        probability_list = [(freq / total_frequency, word) for word, freq in frequency_dict.items()]\n",
    "        probability_list.sort(reverse=True, key=lambda x: x[0])\n",
    "\n",
    "        cumulative_prob = 0\n",
    "        cumulative_prob_list = []\n",
    "        for probability, word in probability_list:\n",
    "            cumulative_prob += probability\n",
    "            cumulative_prob_list.append((cumulative_prob, word))\n",
    "\n",
    "        probability_dictonary[key] = cumulative_prob_list\n",
    "\n",
    "    return probability_dictonary"
   ]
  },
  {
   "cell_type": "code",
   "execution_count": 121,
   "metadata": {},
   "outputs": [],
   "source": [
    "class StateMachine():\n",
    "    def __init__(self, csv_path: str, end_token = '<eos>') -> None:\n",
    "        self.end_token = end_token\n",
    "        df = pd.read_csv(csv_path)\n",
    "        df = df.drop('#', axis=1)\n",
    "        df = df.rename(columns={\"Dad Jokes\": \"text\"})\n",
    "        vocabulary = get_next_token_frequency(df, end_token)\n",
    "        self.state_probabilities = convert_frequency_to_probability(vocabulary)\n",
    "\n",
    "    def get_next_token(self, current_token: str):\n",
    "        token_probabilities = self.state_probabilities[current_token]\n",
    "        probability = random.uniform(0, 1)\n",
    "        for i in token_probabilities:\n",
    "            if probability <= i[0]:\n",
    "                return i[1]\n",
    "\n",
    "    def generate_sequence(self, starting_token: str) -> list[str]:\n",
    "        starting_token = starting_token.lower()\n",
    "        output = [starting_token]\n",
    "        while output[-1] != self.end_token:\n",
    "            output.append(self.get_next_token(output[-1]))\n",
    "\n",
    "        return self.correct_punctuation_and_spacing(\" \".join(output[:-1]))\n",
    "    \n",
    "\n",
    "    def correct_punctuation_and_spacing(self, text):\n",
    "        # Remove extra spaces around punctuation marks\n",
    "        text = re.sub(r'\\s+([?.!,])', r'\\1', text)\n",
    "        \n",
    "        # Add a space after punctuation marks if not present\n",
    "        text = re.sub(r'([?.!,])([^\\s])', r'\\1 \\2', text)\n",
    "        \n",
    "        # Fix multiple spaces\n",
    "        text = re.sub(r'\\s+', ' ', text).strip()\n",
    "\n",
    "        # Capitalize the first word of each sentence\n",
    "        sentences = re.split(r'(?<=[?.!])\\s+', text)\n",
    "        capitalized_sentences = [sentence.capitalize() for sentence in sentences]\n",
    "        corrected_text = ' '.join(capitalized_sentences)\n",
    "        \n",
    "        return corrected_text"
   ]
  },
  {
   "cell_type": "code",
   "execution_count": 122,
   "metadata": {},
   "outputs": [],
   "source": [
    "my_markov_chain = StateMachine(Path(\"../../dad_jokes.csv\"))"
   ]
  },
  {
   "cell_type": "code",
   "execution_count": 124,
   "metadata": {},
   "outputs": [
    {
     "data": {
      "text/plain": [
       "'I gave birth.'"
      ]
     },
     "execution_count": 124,
     "metadata": {},
     "output_type": "execute_result"
    }
   ],
   "source": [
    "my_markov_chain.generate_sequence(\"I\")"
   ]
  },
  {
   "cell_type": "code",
   "execution_count": null,
   "metadata": {},
   "outputs": [],
   "source": []
  }
 ],
 "metadata": {
  "kernelspec": {
   "display_name": "pytorch",
   "language": "python",
   "name": "python3"
  },
  "language_info": {
   "codemirror_mode": {
    "name": "ipython",
    "version": 3
   },
   "file_extension": ".py",
   "mimetype": "text/x-python",
   "name": "python",
   "nbconvert_exporter": "python",
   "pygments_lexer": "ipython3",
   "version": "3.10.13"
  }
 },
 "nbformat": 4,
 "nbformat_minor": 2
}
